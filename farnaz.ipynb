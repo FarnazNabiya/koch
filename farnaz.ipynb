{
  "nbformat": 4,
  "nbformat_minor": 0,
  "metadata": {
    "colab": {
      "name": "Untitled1.ipynb",
      "provenance": [],
      "collapsed_sections": []
    },
    "kernelspec": {
      "name": "python3",
      "display_name": "Python 3"
    },
    "language_info": {
      "name": "python"
    }
  },
  "cells": [
    {
      "cell_type": "code",
      "metadata": {
        "id": "8MIlnWPYWXSs"
      },
      "source": [
        "name = (\"Farnaz Nabiya\")"
      ],
      "execution_count": null,
      "outputs": []
    },
    {
      "cell_type": "code",
      "metadata": {
        "id": "AFhXpRiCWX4m"
      },
      "source": [
        "email = (\"nabiyafarnaz@gmail.com\")"
      ],
      "execution_count": null,
      "outputs": []
    },
    {
      "cell_type": "code",
      "metadata": {
        "id": "6ybLTzjIWllL"
      },
      "source": [
        "slackusername = (\"@FarnazNabiya\")"
      ],
      "execution_count": null,
      "outputs": []
    },
    {
      "cell_type": "code",
      "metadata": {
        "id": "M0cIx1dwWxPr"
      },
      "source": [
        "biostack = (\"Drug Development\")"
      ],
      "execution_count": null,
      "outputs": []
    },
    {
      "cell_type": "code",
      "metadata": {
        "colab": {
          "base_uri": "https://localhost:8080/"
        },
        "id": "q9AXTUgieI7L",
        "outputId": "a3157c98-36fd-42b0-b3cc-7c5a894f630f"
      },
      "source": [
        "print ( name, email, slackusername, biostack, sep = \"\\n\")\n"
      ],
      "execution_count": null,
      "outputs": [
        {
          "output_type": "stream",
          "text": [
            "Farnaz Nabiya\n",
            "nabiyafarnaz@gmail.com\n",
            "@FarnazNabiya\n",
            "Drug Development\n"
          ],
          "name": "stdout"
        }
      ]
    }
  ]
}